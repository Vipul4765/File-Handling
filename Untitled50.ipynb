{
  "nbformat": 4,
  "nbformat_minor": 0,
  "metadata": {
    "colab": {
      "provenance": [],
      "include_colab_link": true
    },
    "kernelspec": {
      "name": "python3",
      "display_name": "Python 3"
    },
    "language_info": {
      "name": "python"
    }
  },
  "cells": [
    {
      "cell_type": "markdown",
      "metadata": {
        "id": "view-in-github",
        "colab_type": "text"
      },
      "source": [
        "<a href=\"https://colab.research.google.com/github/Vipul4765/File-Handling/blob/main/Untitled50.ipynb\" target=\"_parent\"><img src=\"https://colab.research.google.com/assets/colab-badge.svg\" alt=\"Open In Colab\"/></a>"
      ]
    },
    {
      "cell_type": "code",
      "execution_count": null,
      "metadata": {
        "colab": {
          "base_uri": "https://localhost:8080/"
        },
        "id": "1S9X3mNQ-4u7",
        "outputId": "2f61a246-95e4-42a3-8e35-bf26861dc670"
      },
      "outputs": [
        {
          "output_type": "stream",
          "name": "stdout",
          "text": [
            "Enter the first number: 10 \n",
            "Enter the second number: 20\n",
            "You entered: 10.0 and 20.0 - okk\n"
          ]
        }
      ],
      "source": [
        "# Taking input for the numbers\n",
        "num1 = float(input(\"Enter the first number: \"))\n",
        "num2 = float(input(\"Enter the second number: \"))\n",
        "\n",
        "# Printing the entered numbers\n",
        "print(f\"You entered: {num1} and {num2} - okk\")\n"
      ]
    },
    {
      "cell_type": "code",
      "source": [
        "# Taking input for the numbers\n",
        "num1 = int(input(\"Enter the first number for remainder calculation: \"))  # Integer input\n",
        "num2 = int(input(\"Enter the second number (divisor): \"))  # Integer input\n",
        "\n",
        "# Calculating the remainder\n",
        "if num2 != 0:  # Check to avoid division by zero\n",
        "    remainder = num1 % num2\n",
        "    print(f\"The remainder of {num1} divided by {num2} is: {remainder} - okk\")\n",
        "else:\n",
        "    print(\"Cannot calculate remainder: Division by zero is not allowed!\")  # Handle division by zero\n"
      ],
      "metadata": {
        "colab": {
          "base_uri": "https://localhost:8080/"
        },
        "id": "Ct2kX39G_XLR",
        "outputId": "bc47121e-9638-4637-9c11-79de82331803"
      },
      "execution_count": null,
      "outputs": [
        {
          "output_type": "stream",
          "name": "stdout",
          "text": [
            "Enter the first number for remainder calculation: 23\n",
            "Enter the second number (divisor): 10\n",
            "The remainder of 23 divided by 10 is: 3 - okk\n"
          ]
        }
      ]
    },
    {
      "cell_type": "code",
      "source": [
        "# Taking input for three strings\n",
        "string1 = input(\"Enter the first string: \")\n",
        "string2 = input(\"Enter the second string: \")\n",
        "string3 = input(\"Enter the third string: \")\n",
        "\n",
        "# Concatenating the strings\n",
        "concatenated_string = string1 + string2 + string3\n",
        "print(f\"The concatenated string is: '{concatenated_string}'\")"
      ],
      "metadata": {
        "colab": {
          "base_uri": "https://localhost:8080/"
        },
        "id": "mv8SCMC6_lLh",
        "outputId": "43a88583-2574-406f-af03-57e2286b4551"
      },
      "execution_count": null,
      "outputs": [
        {
          "output_type": "stream",
          "name": "stdout",
          "text": [
            "Enter the first string: ap\n",
            "Enter the second string: p\n",
            "Enter the third string: le\n",
            "The concatenated string is: 'apple'\n"
          ]
        }
      ]
    },
    {
      "cell_type": "code",
      "source": [
        "# Taking input for the string\n",
        "single_string = input(\"Enter a string: \")\n",
        "\n",
        "# Calculating the length of the string\n",
        "string_length = len(single_string)\n",
        "print(f\"The length of the string '{single_string}' is: {string_length}\")\n",
        "\n"
      ],
      "metadata": {
        "colab": {
          "base_uri": "https://localhost:8080/"
        },
        "id": "Ok9vI0FI_4yJ",
        "outputId": "be8b0af2-de6f-44ad-96b6-e575df656660"
      },
      "execution_count": null,
      "outputs": [
        {
          "output_type": "stream",
          "name": "stdout",
          "text": [
            "Enter a string: nishi \n",
            "The length of the string 'nishi ' is: 6\n"
          ]
        }
      ]
    },
    {
      "cell_type": "code",
      "source": [
        "# Taking input for three strings to concatenate\n",
        "string1 = input(\"Enter the first string: \")\n",
        "string2 = input(\"Enter the second string: \")\n",
        "string3 = input(\"Enter the third string: \")\n",
        "\n",
        "# Concatenating the strings\n",
        "concatenated_string = string1 + string2 + string3\n",
        "\n",
        "# Calculating the length of the concatenated string\n",
        "concatenated_length = len(concatenated_string)\n",
        "print(f\"The length of the concatenated string is: {concatenated_length}\")"
      ],
      "metadata": {
        "colab": {
          "base_uri": "https://localhost:8080/"
        },
        "id": "NiJZOAEAATZl",
        "outputId": "7d495750-0ba3-425f-b544-b7d9e56b9229"
      },
      "execution_count": null,
      "outputs": [
        {
          "output_type": "stream",
          "name": "stdout",
          "text": [
            "Enter the first string: a\n",
            "Enter the second string: pp\n",
            "Enter the third string: le\n",
            "The length of the concatenated string is: 5\n"
          ]
        }
      ]
    },
    {
      "cell_type": "code",
      "source": [
        "import math\n",
        "\n",
        "number = float(input(\"Enter a number to find its power : \"))\n",
        "power = int(input(\"Enter the power you want to raise the number to : \"))\n",
        "\n",
        "# Calculating the power\n",
        "result_power = number ** power\n",
        "print(f\"{number} raised to the power of {power} is: {result_power}\")"
      ],
      "metadata": {
        "colab": {
          "base_uri": "https://localhost:8080/"
        },
        "id": "S-AY9NtXAe5v",
        "outputId": "f3119181-13db-48c7-a652-c411ef8090d5"
      },
      "execution_count": null,
      "outputs": [
        {
          "output_type": "stream",
          "name": "stdout",
          "text": [
            "Enter a number to find its power : 2\n",
            "Enter the power you want to raise the number to : 3\n",
            "2.0 raised to the power of 3 is: 8.0\n"
          ]
        }
      ]
    },
    {
      "cell_type": "code",
      "source": [
        "# Calculating the square root\n",
        "number = int(input())\n",
        "sqrt_result = math.sqrt(number)\n",
        "print(f\"The square root of {number} is: {sqrt_result}\")\n"
      ],
      "metadata": {
        "colab": {
          "base_uri": "https://localhost:8080/"
        },
        "id": "d6R1s00WAq2P",
        "outputId": "573ad5be-e498-4ebd-8e5a-29ed37b0f6bb"
      },
      "execution_count": null,
      "outputs": [
        {
          "output_type": "stream",
          "name": "stdout",
          "text": [
            "25\n",
            "The square root of 25 is: 5.0\n"
          ]
        }
      ]
    },
    {
      "cell_type": "code",
      "source": [
        "# Taking input for a list of numbers\n",
        "numbers_list = input(\"Enter a list of numbers separated by spaces: \")\n",
        "numbers_list = [float(num) for num in numbers_list.split()]\n",
        "# Sum of the list\n",
        "sum_of_list = sum(numbers_list)\n",
        "# Length of the list\n",
        "length_of_list = len(numbers_list)\n",
        "print(f\"The sum of the list is: {sum_of_list}\")\n",
        "print(f\"The length of the list is: {length_of_list}\")"
      ],
      "metadata": {
        "colab": {
          "base_uri": "https://localhost:8080/"
        },
        "id": "Z3Kyw0l3A3hh",
        "outputId": "d4a81533-f14d-42c3-fb84-3bb2210b34de"
      },
      "execution_count": null,
      "outputs": [
        {
          "output_type": "stream",
          "name": "stdout",
          "text": [
            "Enter a list of numbers separated by spaces: 3 4 5 6 7 8\n",
            "The sum of the list is: 33.0\n",
            "The length of the list is: 6\n"
          ]
        }
      ]
    },
    {
      "cell_type": "code",
      "source": [
        "# Taking input for a list of numbers\n",
        "numbers_list = input(\"Enter a list of numbers separated by spaces: \")\n",
        "\n",
        "# Converting input to a list of floats\n",
        "numbers_list = [float(num) for num in numbers_list.split()]\n",
        "\n",
        "# Checking if the list has enough elements to calculate differences\n",
        "if len(numbers_list) > 1:\n",
        "    # Calculating the differences between consecutive elements\n",
        "    differences = [numbers_list[i] - numbers_list[i - 1] for i in range(1, len(numbers_list))]\n",
        "\n",
        "    # Printing the differences\n",
        "    print(f\"The differences between consecutive elements in the list are: {differences}\")\n",
        "else:\n",
        "    print(\"Not enough elements to calculate differences\")\n"
      ],
      "metadata": {
        "colab": {
          "base_uri": "https://localhost:8080/"
        },
        "id": "M4-lokcKBMoR",
        "outputId": "31a00abb-95c7-4da4-cb48-be58c5d0c8a6"
      },
      "execution_count": null,
      "outputs": [
        {
          "output_type": "stream",
          "name": "stdout",
          "text": [
            "Enter a list of numbers separated by spaces: 5 3 7 9 4\n",
            "The differences between consecutive elements in the list are: [-2.0, 4.0, 2.0, -5.0]\n"
          ]
        }
      ]
    },
    {
      "cell_type": "code",
      "source": [
        "# Taking input for the first number\n",
        "num1 = float(input(\"Enter the first number: \"))\n",
        "\n",
        "# Taking input for the second number\n",
        "num2 = float(input(\"Enter the second number: \"))\n",
        "\n",
        "# Checking if the two numbers are equal\n",
        "if num1 == num2:\n",
        "    print(f\"The numbers {num1} and {num2} are equal\")\n",
        "else:\n",
        "    print(f\"The numbers {num1} and {num2} are not equal\")\n"
      ],
      "metadata": {
        "colab": {
          "base_uri": "https://localhost:8080/"
        },
        "id": "6d-HSxdUBsMR",
        "outputId": "1692449b-775a-4be9-ed9f-f8f189388e4f"
      },
      "execution_count": null,
      "outputs": [
        {
          "output_type": "stream",
          "name": "stdout",
          "text": [
            "Enter the first number: 10\n",
            "Enter the second number: 10\n",
            "The numbers 10.0 and 10.0 are equal\n"
          ]
        }
      ]
    },
    {
      "cell_type": "code",
      "source": [
        "# Taking input for the first number\n",
        "num1 = float(input(\"Enter the first number: \"))\n",
        "\n",
        "# Taking input for the second number\n",
        "num2 = float(input(\"Enter the second number: \"))\n",
        "\n",
        "# Comparing the two numbers\n",
        "if num1 > num2:\n",
        "    print(f\"{num1} is larger than {num2} \")\n",
        "elif num1 < num2:\n",
        "    print(f\"{num1} is smaller than {num2} \")\n",
        "else:\n",
        "    print(f\"The numbers {num1} and {num2} are equal\")\n"
      ],
      "metadata": {
        "colab": {
          "base_uri": "https://localhost:8080/"
        },
        "id": "ImMmRuj0B71w",
        "outputId": "8edf3b16-146d-4198-bf2f-93b492e53424"
      },
      "execution_count": null,
      "outputs": [
        {
          "output_type": "stream",
          "name": "stdout",
          "text": [
            "Enter the first number: 30\n",
            "Enter the second number: 21\n",
            "30.0 is larger than 21.0 \n"
          ]
        }
      ]
    },
    {
      "cell_type": "code",
      "source": [
        "# Taking input for the number\n",
        "num = int(input(\"Enter a number: \"))  # Using int for whole numbers\n",
        "\n",
        "# Checking if the number is odd or even\n",
        "if num % 2 == 0:\n",
        "    print(f\"{num} is an even number \")\n",
        "else:\n",
        "    print(f\"{num} is an odd number \")\n"
      ],
      "metadata": {
        "colab": {
          "base_uri": "https://localhost:8080/"
        },
        "id": "XBj4Bv6GCHUJ",
        "outputId": "269859cc-044b-42f0-fd66-a1314a5325bc"
      },
      "execution_count": null,
      "outputs": [
        {
          "output_type": "stream",
          "name": "stdout",
          "text": [
            "Enter a number: 29\n",
            "29 is an odd number \n"
          ]
        }
      ]
    },
    {
      "cell_type": "code",
      "source": [
        "# Taking input for the year\n",
        "year = int(input(\"Enter a year: \"))  # Using int to ensure the input is a whole number\n",
        "\n",
        "# Checking if the year is a leap year\n",
        "if (year % 4 == 0 and year % 100 != 0) or (year % 400 == 0):\n",
        "    print(f\"{year} is a leap year\")\n",
        "else:\n",
        "    print(f\"{year} is not a leap year\")\n"
      ],
      "metadata": {
        "colab": {
          "base_uri": "https://localhost:8080/"
        },
        "id": "lm_O5QcPCUNi",
        "outputId": "82616234-02b4-4354-b621-6f297d8b09b9"
      },
      "execution_count": null,
      "outputs": [
        {
          "output_type": "stream",
          "name": "stdout",
          "text": [
            "Enter a year: 2003\n",
            "2003 is not a leap year\n"
          ]
        }
      ]
    },
    {
      "cell_type": "code",
      "source": [
        "# Taking input for age\n",
        "age = int(input(\"Enter your age: \"))\n",
        "\n",
        "# Taking input for gender\n",
        "gender = input(\"Enter your gender (male/female/other): \").strip().lower()\n",
        "\n",
        "# Classifying age group\n",
        "if age < 0:\n",
        "    print(\"Age cannot be negative - okk\")\n",
        "elif age <= 12:\n",
        "    age_group = \"child\"\n",
        "elif age <= 19:\n",
        "    age_group = \"teenager\"\n",
        "elif age <= 64:\n",
        "    age_group = \"adult\"\n",
        "else:\n",
        "    age_group = \"senior\"\n",
        "\n",
        "# Classifying gender\n",
        "if gender in [\"male\", \"female\", \"other\"]:\n",
        "    print(f\"You are a {age_group} and identified as {gender}\")\n",
        "else:\n",
        "    print(\"Invalid gender input. Please enter male, female, or other\")\n"
      ],
      "metadata": {
        "colab": {
          "base_uri": "https://localhost:8080/"
        },
        "id": "ck9IKXCNCaPg",
        "outputId": "52dc24af-adb3-4c59-c731-0debb644a004"
      },
      "execution_count": null,
      "outputs": [
        {
          "output_type": "stream",
          "name": "stdout",
          "text": [
            "Enter your age: 35\n",
            "Enter your gender (male/female/other): male\n",
            "You are a adult and identified as male\n"
          ]
        }
      ]
    },
    {
      "cell_type": "code",
      "source": [],
      "metadata": {
        "id": "ByJrXWFwClSj"
      },
      "execution_count": null,
      "outputs": []
    }
  ]
}